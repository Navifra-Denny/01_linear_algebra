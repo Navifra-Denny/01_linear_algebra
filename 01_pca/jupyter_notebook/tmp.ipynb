{
  "nbformat": 4,
  "nbformat_minor": 0,
  "metadata": {
    "colab": {
      "provenance": [],
      "authorship_tag": "ABX9TyPUjjitD9fFWr/8/1TXZ9C7",
      "include_colab_link": true
    },
    "kernelspec": {
      "name": "python3",
      "display_name": "Python 3"
    },
    "language_info": {
      "name": "python"
    },
    "widgets": {
      "application/vnd.jupyter.widget-state+json": {
        "8dc701208bca4122a96c1633c431442e": {
          "model_module": "@jupyter-widgets/controls",
          "model_name": "VBoxModel",
          "model_module_version": "1.5.0",
          "state": {
            "_dom_classes": [
              "widget-interact"
            ],
            "_model_module": "@jupyter-widgets/controls",
            "_model_module_version": "1.5.0",
            "_model_name": "VBoxModel",
            "_view_count": null,
            "_view_module": "@jupyter-widgets/controls",
            "_view_module_version": "1.5.0",
            "_view_name": "VBoxView",
            "box_style": "",
            "children": [
              "IPY_MODEL_b4e1a28afdc341dabde4b3560a7611d2",
              "IPY_MODEL_dbc0fb08092c49f1b96a383f74e6eb78"
            ],
            "layout": "IPY_MODEL_563f03e70f724526bc335f715c993d82"
          }
        },
        "b4e1a28afdc341dabde4b3560a7611d2": {
          "model_module": "@jupyter-widgets/controls",
          "model_name": "IntSliderModel",
          "model_module_version": "1.5.0",
          "state": {
            "_dom_classes": [],
            "_model_module": "@jupyter-widgets/controls",
            "_model_module_version": "1.5.0",
            "_model_name": "IntSliderModel",
            "_view_count": null,
            "_view_module": "@jupyter-widgets/controls",
            "_view_module_version": "1.5.0",
            "_view_name": "IntSliderView",
            "continuous_update": true,
            "description": "theta",
            "description_tooltip": null,
            "disabled": false,
            "layout": "IPY_MODEL_230bdb7656e34dbc9ed6235dfab28221",
            "max": 360,
            "min": 0,
            "orientation": "horizontal",
            "readout": true,
            "readout_format": "d",
            "step": 1,
            "style": "IPY_MODEL_22a8d66fad7243fdbbed77ea067ad44b",
            "value": 103
          }
        },
        "dbc0fb08092c49f1b96a383f74e6eb78": {
          "model_module": "@jupyter-widgets/output",
          "model_name": "OutputModel",
          "model_module_version": "1.0.0",
          "state": {
            "_dom_classes": [],
            "_model_module": "@jupyter-widgets/output",
            "_model_module_version": "1.0.0",
            "_model_name": "OutputModel",
            "_view_count": null,
            "_view_module": "@jupyter-widgets/output",
            "_view_module_version": "1.0.0",
            "_view_name": "OutputView",
            "layout": "IPY_MODEL_6b4cbc4e3c87447db84e2da42a0f00ee",
            "msg_id": "",
            "outputs": [
              {
                "output_type": "display_data",
                "data": {
                  "text/plain": "<Figure size 500x500 with 1 Axes>",
                  "image/png": "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\n"
                },
                "metadata": {}
              }
            ]
          }
        },
        "563f03e70f724526bc335f715c993d82": {
          "model_module": "@jupyter-widgets/base",
          "model_name": "LayoutModel",
          "model_module_version": "1.2.0",
          "state": {
            "_model_module": "@jupyter-widgets/base",
            "_model_module_version": "1.2.0",
            "_model_name": "LayoutModel",
            "_view_count": null,
            "_view_module": "@jupyter-widgets/base",
            "_view_module_version": "1.2.0",
            "_view_name": "LayoutView",
            "align_content": null,
            "align_items": null,
            "align_self": null,
            "border": null,
            "bottom": null,
            "display": null,
            "flex": null,
            "flex_flow": null,
            "grid_area": null,
            "grid_auto_columns": null,
            "grid_auto_flow": null,
            "grid_auto_rows": null,
            "grid_column": null,
            "grid_gap": null,
            "grid_row": null,
            "grid_template_areas": null,
            "grid_template_columns": null,
            "grid_template_rows": null,
            "height": null,
            "justify_content": null,
            "justify_items": null,
            "left": null,
            "margin": null,
            "max_height": null,
            "max_width": null,
            "min_height": null,
            "min_width": null,
            "object_fit": null,
            "object_position": null,
            "order": null,
            "overflow": null,
            "overflow_x": null,
            "overflow_y": null,
            "padding": null,
            "right": null,
            "top": null,
            "visibility": null,
            "width": null
          }
        },
        "230bdb7656e34dbc9ed6235dfab28221": {
          "model_module": "@jupyter-widgets/base",
          "model_name": "LayoutModel",
          "model_module_version": "1.2.0",
          "state": {
            "_model_module": "@jupyter-widgets/base",
            "_model_module_version": "1.2.0",
            "_model_name": "LayoutModel",
            "_view_count": null,
            "_view_module": "@jupyter-widgets/base",
            "_view_module_version": "1.2.0",
            "_view_name": "LayoutView",
            "align_content": null,
            "align_items": null,
            "align_self": null,
            "border": null,
            "bottom": null,
            "display": null,
            "flex": null,
            "flex_flow": null,
            "grid_area": null,
            "grid_auto_columns": null,
            "grid_auto_flow": null,
            "grid_auto_rows": null,
            "grid_column": null,
            "grid_gap": null,
            "grid_row": null,
            "grid_template_areas": null,
            "grid_template_columns": null,
            "grid_template_rows": null,
            "height": null,
            "justify_content": null,
            "justify_items": null,
            "left": null,
            "margin": null,
            "max_height": null,
            "max_width": null,
            "min_height": null,
            "min_width": null,
            "object_fit": null,
            "object_position": null,
            "order": null,
            "overflow": null,
            "overflow_x": null,
            "overflow_y": null,
            "padding": null,
            "right": null,
            "top": null,
            "visibility": null,
            "width": null
          }
        },
        "22a8d66fad7243fdbbed77ea067ad44b": {
          "model_module": "@jupyter-widgets/controls",
          "model_name": "SliderStyleModel",
          "model_module_version": "1.5.0",
          "state": {
            "_model_module": "@jupyter-widgets/controls",
            "_model_module_version": "1.5.0",
            "_model_name": "SliderStyleModel",
            "_view_count": null,
            "_view_module": "@jupyter-widgets/base",
            "_view_module_version": "1.2.0",
            "_view_name": "StyleView",
            "description_width": "",
            "handle_color": null
          }
        },
        "6b4cbc4e3c87447db84e2da42a0f00ee": {
          "model_module": "@jupyter-widgets/base",
          "model_name": "LayoutModel",
          "model_module_version": "1.2.0",
          "state": {
            "_model_module": "@jupyter-widgets/base",
            "_model_module_version": "1.2.0",
            "_model_name": "LayoutModel",
            "_view_count": null,
            "_view_module": "@jupyter-widgets/base",
            "_view_module_version": "1.2.0",
            "_view_name": "LayoutView",
            "align_content": null,
            "align_items": null,
            "align_self": null,
            "border": null,
            "bottom": null,
            "display": null,
            "flex": null,
            "flex_flow": null,
            "grid_area": null,
            "grid_auto_columns": null,
            "grid_auto_flow": null,
            "grid_auto_rows": null,
            "grid_column": null,
            "grid_gap": null,
            "grid_row": null,
            "grid_template_areas": null,
            "grid_template_columns": null,
            "grid_template_rows": null,
            "height": null,
            "justify_content": null,
            "justify_items": null,
            "left": null,
            "margin": null,
            "max_height": null,
            "max_width": null,
            "min_height": null,
            "min_width": null,
            "object_fit": null,
            "object_position": null,
            "order": null,
            "overflow": null,
            "overflow_x": null,
            "overflow_y": null,
            "padding": null,
            "right": null,
            "top": null,
            "visibility": null,
            "width": null
          }
        }
      }
    }
  },
  "cells": [
    {
      "cell_type": "markdown",
      "metadata": {
        "id": "view-in-github",
        "colab_type": "text"
      },
      "source": [
        "<a href=\"https://colab.research.google.com/github/Navifra-Denny/01_linear_algebra/blob/main/01.pca/jupyter_notebook/tmp.ipynb\" target=\"_parent\"><img src=\"https://colab.research.google.com/assets/colab-badge.svg\" alt=\"Open In Colab\"/></a>"
      ]
    },
    {
      "cell_type": "code",
      "execution_count": 5,
      "metadata": {
        "id": "GXKttmbSRQ7n"
      },
      "outputs": [],
      "source": [
        "import numpy as np\n",
        "import matplotlib.pyplot as plt\n",
        "\n",
        "import ipywidgets as widgets\n",
        "from IPython.display import display"
      ]
    },
    {
      "cell_type": "code",
      "source": [
        "\n",
        "# 원래 벡터\n",
        "x = np.array([1, 1])\n",
        "\n",
        "# 회전 행렬 생성 함수\n",
        "def rotation_matrix(theta_deg):\n",
        "    theta = np.radians(theta_deg)\n",
        "    return np.array([\n",
        "        [np.cos(theta), -np.sin(theta)],\n",
        "        [np.sin(theta),  np.cos(theta)]\n",
        "    ])\n"
      ],
      "metadata": {
        "id": "x7JxolHVRS2x"
      },
      "execution_count": 6,
      "outputs": []
    },
    {
      "cell_type": "code",
      "source": [
        "\n",
        "# 인터랙션으로 갱신할 함수\n",
        "def update_line(theta=0):\n",
        "    A = rotation_matrix(theta)\n",
        "    x_rotated = A @ x\n",
        "\n",
        "    # 시각화\n",
        "    plt.figure(figsize=(5, 5))\n",
        "    ax = plt.gca()\n",
        "    ax.set_xlim(-2, 2)\n",
        "    ax.set_ylim(-2, 2)\n",
        "    ax.set_aspect('equal')\n",
        "    ax.grid(True)\n",
        "\n",
        "    # 원래 벡터 (파란색)\n",
        "    ax.quiver(0, 0, x[0], x[1], angles='xy', scale_units='xy', scale=1, color='blue', label='original')\n",
        "\n",
        "    # 회전된 벡터 (빨간색)\n",
        "    ax.quiver(0, 0, x_rotated[0], x_rotated[1], angles='xy', scale_units='xy', scale=1, color='red', label='rotated')\n",
        "\n",
        "    ax.legend()\n",
        "    ax.set_title(f\"Rotation by θ = {theta}°\")\n",
        "    plt.show()\n"
      ],
      "metadata": {
        "id": "9-PxRCSVR-MV"
      },
      "execution_count": 7,
      "outputs": []
    },
    {
      "cell_type": "code",
      "source": [
        "\n",
        "# 슬라이더를 이용한 인터랙션\n",
        "theta_slider = widgets.IntSlider(min=0, max=360, step=1, value=0)\n",
        "widgets.interact(update_line, theta=theta_slider);"
      ],
      "metadata": {
        "colab": {
          "base_uri": "https://localhost:8080/",
          "height": 500,
          "referenced_widgets": [
            "8dc701208bca4122a96c1633c431442e",
            "b4e1a28afdc341dabde4b3560a7611d2",
            "dbc0fb08092c49f1b96a383f74e6eb78",
            "563f03e70f724526bc335f715c993d82",
            "230bdb7656e34dbc9ed6235dfab28221",
            "22a8d66fad7243fdbbed77ea067ad44b",
            "6b4cbc4e3c87447db84e2da42a0f00ee"
          ]
        },
        "id": "dfxcVZRrRUOZ",
        "outputId": "acadc01d-0bbb-4ac6-9b6a-d5e6e030bcd1"
      },
      "execution_count": 8,
      "outputs": [
        {
          "output_type": "display_data",
          "data": {
            "text/plain": [
              "interactive(children=(IntSlider(value=0, description='theta', max=360), Output()), _dom_classes=('widget-inter…"
            ],
            "application/vnd.jupyter.widget-view+json": {
              "version_major": 2,
              "version_minor": 0,
              "model_id": "8dc701208bca4122a96c1633c431442e"
            }
          },
          "metadata": {}
        }
      ]
    },
    {
      "cell_type": "code",
      "source": [],
      "metadata": {
        "id": "XV00PiFsR_ma"
      },
      "execution_count": null,
      "outputs": []
    }
  ]
}